{
 "cells": [
  {
   "cell_type": "code",
   "execution_count": 1,
   "metadata": {},
   "outputs": [],
   "source": [
    "########################################################################################################\n",
    "# This is the code by Cheng Lu for project 1 part II of ATOC7500\n",
    "# read in text data, basic statistic, plot distribution, bootstrap, z-test and t-test\n",
    "########################################################################################################\n",
    "\n",
    "### GENERAL SETUP\n",
    "%matplotlib inline  \n",
    "# this enables plotting within notebook\n",
    "\n",
    "import matplotlib   # library for plotting\n",
    "import matplotlib.pyplot as plt #  plt.$COMMAND\n",
    "import numpy as np   # basic math library, type np.$STUFF  e.g., np.cos(1)\n",
    "import pandas as pd  # library for data analysis for text files (everything but netcdf files)\n",
    "import scipy.stats as stats # imports stats functions https://docs.scipy.org/doc/scipy/reference/stats.html "
   ]
  },
  {
   "cell_type": "code",
   "execution_count": 2,
   "metadata": {},
   "outputs": [
    {
     "data": {
      "text/html": [
       "<div>\n",
       "<style scoped>\n",
       "    .dataframe tbody tr th:only-of-type {\n",
       "        vertical-align: middle;\n",
       "    }\n",
       "\n",
       "    .dataframe tbody tr th {\n",
       "        vertical-align: top;\n",
       "    }\n",
       "\n",
       "    .dataframe thead th {\n",
       "        text-align: right;\n",
       "    }\n",
       "</style>\n",
       "<table border=\"1\" class=\"dataframe\">\n",
       "  <thead>\n",
       "    <tr style=\"text-align: right;\">\n",
       "      <th></th>\n",
       "      <th>P_hPa</th>\n",
       "      <th>R_inches</th>\n",
       "    </tr>\n",
       "  </thead>\n",
       "  <tbody>\n",
       "    <tr>\n",
       "      <th>0</th>\n",
       "      <td>842.63</td>\n",
       "      <td>0.0</td>\n",
       "    </tr>\n",
       "    <tr>\n",
       "      <th>1</th>\n",
       "      <td>842.58</td>\n",
       "      <td>0.0</td>\n",
       "    </tr>\n",
       "    <tr>\n",
       "      <th>2</th>\n",
       "      <td>842.13</td>\n",
       "      <td>0.0</td>\n",
       "    </tr>\n",
       "    <tr>\n",
       "      <th>3</th>\n",
       "      <td>842.38</td>\n",
       "      <td>0.0</td>\n",
       "    </tr>\n",
       "    <tr>\n",
       "      <th>4</th>\n",
       "      <td>842.57</td>\n",
       "      <td>0.0</td>\n",
       "    </tr>\n",
       "  </tbody>\n",
       "</table>\n",
       "</div>"
      ],
      "text/plain": [
       "    P_hPa  R_inches\n",
       "0  842.63       0.0\n",
       "1  842.58       0.0\n",
       "2  842.13       0.0\n",
       "3  842.38       0.0\n",
       "4  842.57       0.0"
      ]
     },
     "execution_count": 2,
     "metadata": {},
     "output_type": "execute_result"
    }
   ],
   "source": [
    "### Read in the data\n",
    "filename='homework1_data.csv'\n",
    "data=pd.read_csv(filename,sep=',')\n",
    "data.head()"
   ]
  },
  {
   "cell_type": "code",
   "execution_count": 10,
   "metadata": {},
   "outputs": [
    {
     "name": "stdout",
     "output_type": "stream",
     "text": [
      "Average Pressure (hPa): 846.33\n",
      "Average Pressure with Rain (hPa): 847.03\n",
      "SD of population P: 5.62\n",
      "SD of population P: 5.39\n",
      "Size of Population: 8760\n",
      "Size of Sample: 384\n"
     ]
    }
   ],
   "source": [
    "###get average pressure\n",
    "P_avg=data['P_hPa'].mean()\n",
    "print('Average Pressure (hPa):',np.str(np.round(P_avg,2)))\n",
    "# get average pressure when R>=0.01\n",
    "P_avg_rain=data[data.R_inches>=0.01]['P_hPa'].mean()\n",
    "print('Average Pressure with Rain (hPa):',np.str(np.round(P_avg_rain,2)))\n",
    "# population standard deviation\n",
    "P_std=data['P_hPa'].std()\n",
    "print('SD of population P:',np.str(np.round(P_std,2)))\n",
    "# sample standard deviation\n",
    "S_std=data[data.R_inches>=0.01]['P_hPa'].std()\n",
    "print('SD of population P:',np.str(np.round(S_std,2)))\n",
    "# size of population and sample\n",
    "N_P=len(data.P_hPa)\n",
    "print('Size of Population:',np.str(N_P))\n",
    "N_S=len(data[data.R_inches>=0.01].P_hPa)\n",
    "print('Size of Sample:',np.str(N_S))"
   ]
  },
  {
   "cell_type": "code",
   "execution_count": 11,
   "metadata": {},
   "outputs": [
    {
     "data": {
      "image/png": "[encoded data removed]",
      "text/plain": [
       "<Figure size 432x288 with 1 Axes>"
      ]
     },
     "metadata": {
      "needs_background": "light"
     },
     "output_type": "display_data"
    }
   ],
   "source": [
    "## plot the distribution of the population to check if it's normally distributed\n",
    "binsize=0.1\n",
    "min4hist=np.round(np.min(data['P_hPa']),1)-binsize\n",
    "max4hist=np.round(np.max(data['P_hPa']),1)+binsize\n",
    "nbins=int((max4hist-min4hist)/binsize)\n",
    "\n",
    "plt.hist(data['P_hPa'],nbins,edgecolor='black')\n",
    "plt.xlabel('Pressure (hPa)');\n",
    "plt.ylabel('Count');\n",
    "plt.title('Population Pressure Distribution');"
   ]
  },
  {
   "cell_type": "code",
   "execution_count": 4,
   "metadata": {},
   "outputs": [
    {
     "name": "stdout",
     "output_type": "stream",
     "text": [
      "100000\n",
      "Mean Average Pressure: 846.33\n",
      "SD Mean Pressure: 0.29\n",
      "Min Mean Pressure: 845.08\n",
      "Max Mean Pressure: 847.58\n"
     ]
    }
   ],
   "source": [
    "### Bootstrap Nbs times to generate a distribution of randomly selected mean pressure.\n",
    "Nbs=100000\n",
    "## initialize array\n",
    "P_Bootstrap=np.empty((Nbs,N_S))\n",
    "## loop over to fill in array with randomly selected values\n",
    "for ii in range(Nbs):\n",
    "    P_Bootstrap[ii,:]=np.random.choice(data.P_hPa,N_S)\n",
    "\n",
    "## Calculate the means of randomly selected values.\n",
    "P_Bootstrap_mean=np.mean(P_Bootstrap,axis=1)\n",
    "print(len(P_Bootstrap_mean))  ## check length to see if averaged across the correct axis\n",
    "\n",
    "P_Bootstrap_mean_avg=np.mean(P_Bootstrap_mean)\n",
    "print('Mean Average Pressure:',np.str(np.round(P_Bootstrap_mean_avg,2)))\n",
    "P_Bootstrap_mean_std=np.std(P_Bootstrap_mean)\n",
    "print('SD Mean Pressure:',np.str(np.round(P_Bootstrap_mean_std,2)))\n",
    "P_Bootstrap_mean_min=np.min(P_Bootstrap_mean)\n",
    "print('Min Mean Pressure:',np.str(np.round(P_Bootstrap_mean_min,2)))\n",
    "P_Bootstrap_mean_max=np.max(P_Bootstrap_mean)\n",
    "print('Max Mean Pressure:',np.str(np.round(P_Bootstrap_mean_max,2)))"
   ]
  },
  {
   "cell_type": "code",
   "execution_count": 5,
   "metadata": {},
   "outputs": [
    {
     "data": {
      "image/png": "[encoded data removed]",
      "text/plain": [
       "<Figure size 432x288 with 1 Axes>"
      ]
     },
     "metadata": {
      "needs_background": "light"
     },
     "output_type": "display_data"
    }
   ],
   "source": [
    "### Use matplotlib to plot a histogram of the bootstrapped to compare to the conditional pressure mean\n",
    "binsize=0.1\n",
    "min4hist=np.round(np.min(P_Bootstrap_mean),1)-binsize\n",
    "max4hist=np.round(np.max(P_Bootstrap_mean),1)+binsize\n",
    "nbins=int((max4hist-min4hist)/binsize)\n",
    "\n",
    "plt.hist(P_Bootstrap_mean,nbins,edgecolor='black')\n",
    "plt.xlabel('Mean Pressure (hPa)');\n",
    "plt.ylabel('Count');\n",
    "plt.title('Bootstrapped Randomly Selected Mean Pressure Values');"
   ]
  },
  {
   "cell_type": "code",
   "execution_count": 6,
   "metadata": {},
   "outputs": [
    {
     "name": "stdout",
     "output_type": "stream",
     "text": [
      "PbyChance Percentage: 1.43\n"
     ]
    }
   ],
   "source": [
    "## find the probability that the mean pressure of rainy days is happened by chance in percentage\n",
    "PbyChance=np.count_nonzero(P_Bootstrap_mean>=847.03)*2/Nbs*100\n",
    "print('PbyChance Percentage:',np.str(np.round(PbyChance,2)))"
   ]
  },
  {
   "cell_type": "code",
   "execution_count": 7,
   "metadata": {},
   "outputs": [
    {
     "name": "stdout",
     "output_type": "stream",
     "text": [
      "Z value: 2.43\n",
      "Probability - two-tailed test (percent): 1.49\n"
     ]
    }
   ],
   "source": [
    "## use normal distribution to get the PbyChance\n",
    "SampleMean=P_avg_rain\n",
    "population_mean=np.mean(P_Bootstrap_mean)\n",
    "population_std=np.std(P_Bootstrap_mean)\n",
    "Z=(SampleMean-population_mean)/population_std\n",
    "print('Z value:',np.str(np.round(Z,2)))\n",
    "prob=(1-stats.norm.cdf(np.abs(Z)))*2*100 ##this is a two-sided test\n",
    "print(\"Probability - two-tailed test (percent):\",np.round(prob,2))"
   ]
  },
  {
   "cell_type": "code",
   "execution_count": 9,
   "metadata": {},
   "outputs": [
    {
     "name": "stdout",
     "output_type": "stream",
     "text": [
      "95% confidence t: 1.97\n",
      "95% confidence z: 1.96\n"
     ]
    }
   ],
   "source": [
    "## t-test and z-test\n",
    "# find the critical region for t-test\n",
    "df=N_S-1\n",
    "tstat95=stats.t.ppf(0.975,df)\n",
    "print(\"95% confidence t:\", np.round(tstat95,2))\n",
    "# find the critical region for z-test\n",
    "zstat95=stats.norm.ppf(0.975)\n",
    "print(\"95% confidence z:\", np.round(zstat95,2))"
   ]
  },
  {
   "cell_type": "code",
   "execution_count": 13,
   "metadata": {},
   "outputs": [
    {
     "name": "stdout",
     "output_type": "stream",
     "text": [
      "z= 2.44\n",
      "t= 2.54\n"
     ]
    }
   ],
   "source": [
    "## calculate t value and z value\n",
    "# z value\n",
    "z_value=(P_avg_rain-P_avg)*np.sqrt(N_S)/P_std\n",
    "print(\"z=\",np.str(np.round(z_value,2)))\n",
    "# t value\n",
    "t_value=(P_avg_rain-P_avg)*np.sqrt(N_S-1)/S_std\n",
    "print(\"t=\",np.str(np.round(t_value,2)))"
   ]
  },
  {
   "cell_type": "code",
   "execution_count": null,
   "metadata": {},
   "outputs": [],
   "source": []
  }
 ],
 "metadata": {
  "kernelspec": {
   "display_name": "Python 3",
   "language": "python",
   "name": "python3"
  },
  "language_info": {
   "codemirror_mode": {
    "name": "ipython",
    "version": 3
   },
   "file_extension": ".py",
   "mimetype": "text/x-python",
   "name": "python",
   "nbconvert_exporter": "python",
   "pygments_lexer": "ipython3",
   "version": "3.7.3"
  }
 },
 "nbformat": 4,
 "nbformat_minor": 4
}
